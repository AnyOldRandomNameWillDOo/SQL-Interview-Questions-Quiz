{
 "cells": [
  {
   "cell_type": "markdown",
   "metadata": {},
   "source": [
    "# SQL Interview Questions  - Quiz\n",
    "\n",
    "\n",
    "## Introduction\n",
    "\n",
    "This quiz contains questions on topics you can expect to see in an interview pertaining to SQL and Relational Databases. Some of them are multiple choice, while some are short answer. For these short answer questions, double click on the Jupyter Notebook and type your answer below the line. \n",
    "\n",
    "## Question 1\n",
    "\n",
    "What are the 4 main datatypes in SQLite3? Can we use other common types from other kinds of SQL?\n",
    "\n",
    "Type your answer below this line:\n",
    "_______________________________________________________________________________________________________________________________\n",
    "\n",
    "\n",
    "\n",
    "\n",
    "\n",
    "## Question 2\n",
    "\n",
    "Explain the relationship between **Primary Keys** and **Foreign Keys**.\n",
    "\n",
    "Type your answer below this line:\n",
    "_______________________________________________________________________________________________________________________________\n",
    "\n",
    "\n",
    "\n",
    "\n",
    "\n",
    "## Question 3\n",
    "\n",
    "Explain the different types of relationships entities can have in a SQL database. \n",
    "\n",
    "Type your answer below this line:\n",
    "_______________________________________________________________________________________________________________________________\n",
    "\n",
    "\n",
    "## Question 4\n",
    "\n",
    "Explain the various types of JOINs possible with SQL. \n",
    "\n",
    "Type your answer below this line:\n",
    "_______________________________________________________________________________________________________________________________\n",
    "\n",
    "\n",
    "\n",
    "## Question 5\n",
    "\n",
    "Explain the relationship between Aggregate functions and GROUP BY statements.\n",
    "\n",
    "Type your answer below this line:\n",
    "_______________________________________________________________________________________________________________________________\n",
    "\n",
    "\n",
    "\n",
    "## Question 6\n",
    "\n",
    "What role do Associative Entities play (JOIN Tables) in many-to-many JOINs?\n",
    "\n",
    "\n",
    "Type your answer below this line:\n",
    "_______________________________________________________________________________________________________________________________\n",
    "\n",
    "\n",
    "\n",
    "## Summary\n",
    "\n",
    "In this lesson, we practiced answering open-ended interview questions for SQL and Relational Databases. "
   ]
  },
  {
   "cell_type": "markdown",
   "metadata": {},
   "source": [
    "Question 1. Text, Integer, Blob, and Real. You can specify other types of data from other kinds of SQL but SQLite3 will save them into one of the four types of data that it handles."
   ]
  },
  {
   "cell_type": "markdown",
   "metadata": {},
   "source": [
    "Questions 2. Primary Keys are unique values to that table. Foreign Keys are columns that are shared with other tables in the database."
   ]
  },
  {
   "cell_type": "markdown",
   "metadata": {},
   "source": [
    "Question 3. The tables in a SQL database have relationships to each other through shared columns. Ever table must be connected to at least one other to create an interconnected web of all the tables. The column that is unique for each entry in a table is called the primary key and when it appears on a different table it is called a forgein key. "
   ]
  },
  {
   "cell_type": "markdown",
   "metadata": {},
   "source": [
    "Question 4. There are inner, outer, left, and right joins. The default join is an inner join. An inner join means that only rows that are shared among both tables appear in the newly created table. Left join means that only rows that match with the left table get added in the formation of the new table. Right joins are the same as left but going the opposite direction. Outer joins mean that all the information from both tables gets brought into the new table. There are some variations of left, right, and outer joins as well."
   ]
  },
  {
   "cell_type": "markdown",
   "metadata": {},
   "source": [
    "Question 5. Aggregate functions do some basic math on various columns of a table. Like SUM, COUNT, AVG. The group by statement decides how to create buckets for the aggregate function to work off of. You may want to count employees by a certain location for example. So the aggregate function counts and the group by statement tells it to separate the counts into buckets of the different locations. "
   ]
  },
  {
   "cell_type": "markdown",
   "metadata": {},
   "source": [
    "Question 6. In some cases when you do a join, there are many possibilities of combinations for the data being joined. For example, a company may have multiple offices in a city with multiple employees working in each office. In a join the table created contains all the possible combinations between the locations and employees."
   ]
  }
 ],
 "metadata": {
  "kernelspec": {
   "display_name": "learn-env",
   "language": "python",
   "name": "learn-env"
  },
  "language_info": {
   "codemirror_mode": {
    "name": "ipython",
    "version": 3
   },
   "file_extension": ".py",
   "mimetype": "text/x-python",
   "name": "python",
   "nbconvert_exporter": "python",
   "pygments_lexer": "ipython3",
   "version": "3.6.9"
  }
 },
 "nbformat": 4,
 "nbformat_minor": 2
}
